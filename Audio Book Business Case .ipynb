{
 "cells": [
  {
   "cell_type": "markdown",
   "metadata": {},
   "source": [
    "# Preprocessing Dataset"
   ]
  },
  {
   "cell_type": "code",
   "execution_count": 11,
   "metadata": {},
   "outputs": [],
   "source": [
    "import numpy as np \n",
    "from sklearn.preprocessing import StandardScaler\n",
    "import pickle\n",
    "import pandas as pd\n",
    "import os"
   ]
  },
  {
   "cell_type": "code",
   "execution_count": 12,
   "metadata": {},
   "outputs": [
    {
     "name": "stdout",
     "output_type": "stream",
     "text": [
      "C:\\Users\\muham\n"
     ]
    }
   ],
   "source": [
    "print(os.getcwd())"
   ]
  },
  {
   "cell_type": "code",
   "execution_count": 28,
   "metadata": {},
   "outputs": [],
   "source": [
    "# defining unscaled inputs and output from the main dataset \n",
    "raw_data = np.loadtxt('Audiobooks_data.csv',delimiter=',')\n",
    "unscaled_inputs = raw_data[:,1:-1]\n",
    "unscaled_output = raw_data[:,-1]"
   ]
  },
  {
   "cell_type": "markdown",
   "metadata": {},
   "source": [
    "### Balancing The Dataset"
   ]
  },
  {
   "cell_type": "code",
   "execution_count": 43,
   "metadata": {},
   "outputs": [],
   "source": [
    "# we need to sum all conversion in output column\n",
    "conv_count = int(np.sum(unscaled_output))\n",
    "zero_count = 0\n",
    "zero_to_remove = []\n",
    "for i in range(unscaled_output.shape[0]):\n",
    "    if unscaled_output[i] == 0.0:\n",
    "        zero_count += 1\n",
    "        if zero_count > conv_count:\n",
    "            zero_to_remove.append(i)\n",
    "\n",
    "unscaled_inputs_equal_prior = np.delete(unscaled_inputs,zero_to_remove,axis=0)\n",
    "scaled_output = np.delete(unscaled_output,zero_to_remove,axis=0)          \n",
    "        \n",
    "    "
   ]
  },
  {
   "cell_type": "markdown",
   "metadata": {},
   "source": [
    "### Standardization"
   ]
  },
  {
   "cell_type": "code",
   "execution_count": 44,
   "metadata": {},
   "outputs": [],
   "source": [
    "scaler = StandardScaler()\n",
    "scaled_inputs=scaler.fit_transform(unscaled_inputs_equal_prior)"
   ]
  },
  {
   "cell_type": "markdown",
   "metadata": {},
   "source": [
    "### Shuffle The Dataset "
   ]
  },
  {
   "cell_type": "code",
   "execution_count": 45,
   "metadata": {},
   "outputs": [],
   "source": [
    "shuffled_indices = np.arange(scaled_inputs.shape[0])\n",
    "np.random.shuffle(shuffled_indices)"
   ]
  },
  {
   "cell_type": "code",
   "execution_count": 46,
   "metadata": {},
   "outputs": [],
   "source": [
    "shuffled_inputs = scaled_inputs[shuffled_indices]\n",
    "shuffled_output = scaled_output[shuffled_indices]"
   ]
  },
  {
   "cell_type": "markdown",
   "metadata": {},
   "source": [
    "### Splitting The Dataset \n"
   ]
  },
  {
   "cell_type": "code",
   "execution_count": 50,
   "metadata": {},
   "outputs": [],
   "source": [
    "sample_count = shuffled_inputs.shape[0]\n",
    "train_sample = int(0.8* sample_count)\n",
    "cv_sample = int(0.1* sample_count)\n",
    "test_sample  =sample_count - train_sample - cv_sample"
   ]
  },
  {
   "cell_type": "markdown",
   "metadata": {},
   "source": [
    "### Extracting The Dataset \n"
   ]
  },
  {
   "cell_type": "code",
   "execution_count": 54,
   "metadata": {},
   "outputs": [],
   "source": [
    "train_inputs = shuffled_inputs[:train_sample]\n",
    "train_output = shuffled_output[:train_sample]\n",
    "\n",
    "cv_inputs = shuffled_inputs[train_sample:cv_sample+train_sample]\n",
    "cv_output = shuffled_output[train_sample:cv_sample+train_sample]\n",
    "\n",
    "test_inputs = shuffled_inputs[cv_sample+train_sample:]\n",
    "test_output = shuffled_output[cv_sample+train_sample:]"
   ]
  },
  {
   "cell_type": "markdown",
   "metadata": {},
   "source": [
    "### Testing the balance"
   ]
  },
  {
   "cell_type": "code",
   "execution_count": 58,
   "metadata": {},
   "outputs": [
    {
     "name": "stdout",
     "output_type": "stream",
     "text": [
      "1774.0 3577 0.49594632373497344\n",
      "234.0 447 0.5234899328859061\n",
      "228.0 448 0.5089285714285714\n"
     ]
    }
   ],
   "source": [
    "print(np.sum(train_output),train_sample, (np.sum(train_output) / train_sample))\n",
    "print(np.sum(cv_output),cv_sample, (np.sum(cv_output) / cv_sample))\n",
    "print(np.sum(test_output),test_sample, (np.sum(test_output) / test_sample))"
   ]
  },
  {
   "cell_type": "markdown",
   "metadata": {},
   "source": [
    "### Saving "
   ]
  },
  {
   "cell_type": "code",
   "execution_count": 61,
   "metadata": {},
   "outputs": [],
   "source": [
    "np.savez('Audiobook_train_data',inputs=train_inputs,output=train_output)\n",
    "np.savez('Audiobook_cv_data',inputs=cv_inputs,output=cv_output)\n",
    "np.savez('Audiobook_test_data',inputs=test_inputs,output=test_output)"
   ]
  }
 ],
 "metadata": {
  "kernelspec": {
   "display_name": "Python 3",
   "language": "python",
   "name": "python3"
  },
  "language_info": {
   "codemirror_mode": {
    "name": "ipython",
    "version": 3
   },
   "file_extension": ".py",
   "mimetype": "text/x-python",
   "name": "python",
   "nbconvert_exporter": "python",
   "pygments_lexer": "ipython3",
   "version": "3.7.6"
  }
 },
 "nbformat": 4,
 "nbformat_minor": 4
}
